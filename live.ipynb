{
 "cells": [
  {
   "cell_type": "code",
   "execution_count": 9,
   "id": "ddea75c7-f3e4-4b6f-96b4-55a1745190f4",
   "metadata": {},
   "outputs": [],
   "source": [
    "import math\n",
    "import random"
   ]
  },
  {
   "cell_type": "markdown",
   "id": "30901c1c-2b64-4cdb-9ef7-c5346b7285d1",
   "metadata": {},
   "source": [
    "|n| Gausssian Elim   |      LU      |  np.linalg.det |\n",
    "|-|-----------|:-------------:|------:|\n",
    "|100| 37.3ms |  35.9ms | 1.26ms |\n",
    "|500| 5.56s |  5.68s   |   27.6ms |"
   ]
  },
  {
   "cell_type": "markdown",
   "id": "ded50745-c09e-4da9-8c69-aad217efaef8",
   "metadata": {},
   "source": [
    "For copying:\n",
    "```\n",
    "tests = [([[1, -1, 3], [3, 3, -1], [-1, 1, 1]], 3, 6, 7, 3, 1),\n",
    " ([[3, 3, -1], [-1, 3, 1], [1, -1, 3]], 3, 6, 7, 3, 1),\n",
    " ([[3, -1], [-1, 5]], 2, 2, 7, 5, 3)]\n",
    "```"
   ]
  },
  {
   "cell_type": "markdown",
   "id": "189c1c59-2c90-4e4a-a7cf-9f9ae65a59a5",
   "metadata": {},
   "source": [
    "# Questions\n",
    "- What if matrix P is degenerate\n",
    "\n",
    "# Remarks\n",
    "- det works correctly, 30-200 times slower (for n=100, n=500)\n",
    "- We don't need to mod all values in the resulting c\n",
    "- for (100x100, 100) system the error is 1e-15"
   ]
  },
  {
   "cell_type": "code",
   "execution_count": 3,
   "id": "d778760b-2acf-4aa9-84b2-3ce45cbdd439",
   "metadata": {},
   "outputs": [],
   "source": [
    "def determinant(matrix):\n",
    "    \"\"\"\n",
    "    37.3ms vs 1.26ms (np.linalg.det) for 100x100\n",
    "    Gaussian elimination O(n^3), almost the same as LU-decomposition by time\n",
    "    Returns correct determinant\n",
    "    might have an overflow, but it happens only for 1000x1000 matrices\n",
    "    \"\"\"\n",
    "    # Get the size of the matrix\n",
    "    n = len(matrix)\n",
    "    \n",
    "    # Create a copy of the matrix to avoid mutating the input\n",
    "    mat = [row[:] for row in matrix]\n",
    "    \n",
    "    # Initialize determinant as 1\n",
    "    det = 1\n",
    "    \n",
    "    for i in range(n):\n",
    "        # Find pivot for column i\n",
    "        pivot = i\n",
    "        for j in range(i+1, n):\n",
    "            if abs(mat[j][i]) > abs(mat[pivot][i]):\n",
    "                pivot = j\n",
    "        \n",
    "        # If pivot is zero, determinant is zero\n",
    "        if mat[pivot][i] == 0:\n",
    "            return 0\n",
    "        \n",
    "        # Swap rows if needed\n",
    "        if pivot != i:\n",
    "            mat[i], mat[pivot] = mat[pivot], mat[i]\n",
    "            det *= -1  # Swapping rows flips the sign of the determinant\n",
    "        \n",
    "        # Multiply determinant by the pivot element\n",
    "        det *= mat[i][i]\n",
    "        \n",
    "        # Normalize row i\n",
    "        for j in range(i+1, n):\n",
    "            mat[i][j] /= mat[i][i]\n",
    "        \n",
    "        # Eliminate column i for rows below\n",
    "        for j in range(i+1, n):\n",
    "            for k in range(i+1, n):\n",
    "                mat[j][k] -= mat[j][i] * mat[i][k]\n",
    "    \n",
    "    return det"
   ]
  },
  {
   "cell_type": "code",
   "execution_count": 4,
   "id": "5899b74c-c165-4ee1-ae9a-d24499ec4ee5",
   "metadata": {},
   "outputs": [],
   "source": [
    "def solve(A, b):\n",
    "    \"\"\"\n",
    "    Solves the system of linear equations A * x = b using Gaussian elimination.\n",
    "    \n",
    "    Parameters:\n",
    "    A (list of lists): Coefficient matrix (n x n).\n",
    "    b (list): Right-hand side vector (n).\n",
    "    \n",
    "    Returns:\n",
    "    list: Solution vector x (n).\n",
    "    \"\"\"\n",
    "    n = len(A)\n",
    "    \n",
    "    # Forward elimination: Reduce to upper triangular form\n",
    "    for i in range(n):\n",
    "        # Find the pivot\n",
    "        pivot = i\n",
    "        for j in range(i + 1, n):\n",
    "            if abs(A[j][i]) > abs(A[pivot][i]):\n",
    "                pivot = j\n",
    "        \n",
    "        # Swap rows in A and b\n",
    "        if pivot != i:\n",
    "            A[i], A[pivot] = A[pivot], A[i]\n",
    "            b[i], b[pivot] = b[pivot], b[i]\n",
    "        \n",
    "        # Check for singular matrix\n",
    "        if A[i][i] == 0:\n",
    "            raise ValueError(\"Matrix is singular or nearly singular.\")\n",
    "        \n",
    "        # Eliminate entries below the pivot\n",
    "        for j in range(i + 1, n):\n",
    "            factor = A[j][i] / A[i][i]\n",
    "            for k in range(i, n):\n",
    "                A[j][k] -= factor * A[i][k]\n",
    "            b[j] -= factor * b[i]\n",
    "    \n",
    "    # Back substitution: Solve for x in Ux = c\n",
    "    x = [0] * n\n",
    "    for i in range(n - 1, -1, -1):\n",
    "        x[i] = b[i]\n",
    "        for j in range(i + 1, n):\n",
    "            x[i] -= A[i][j] * x[j]\n",
    "        x[i] /= A[i][i]\n",
    "    \n",
    "    return x"
   ]
  },
  {
   "cell_type": "code",
   "execution_count": 5,
   "id": "febb3392-dda4-4156-a8d7-c8e240e6dc07",
   "metadata": {},
   "outputs": [],
   "source": [
    "def isPrime(n):\n",
    "    if n <= 1:\n",
    "        return False\n",
    "    if n <= 3:\n",
    "        return True\n",
    "    if n % 2 == 0 or n % 3 == 0:\n",
    "        return False\n",
    "    i = 5\n",
    "    while i * i <= n:\n",
    "        if n % i == 0 or n % (i + 2) == 0:\n",
    "            return False\n",
    "        i += 6\n",
    "    return True\n",
    "    \n",
    "# Use eratosthenes sieve\n",
    "def next_prime(n):\n",
    "    while True:\n",
    "        if isPrime(n):\n",
    "            return n\n",
    "        n += 1\n",
    "\n",
    "def hdet(gamma, alpha, weights):  \n",
    "    H_matrix = [[alpha[i][j] * (gamma ** weights[i][j]) * (weights[i][j] != -1) for j in range(n)] for i in range(n)]\n",
    "    return determinant(H_matrix) % prime    \n",
    "\n",
    "def get_P(r_vals, gammas, prime):\n",
    "    return [[pow(g, i, prime) for i in range(len(gammas))] for g in gammas]"
   ]
  },
  {
   "cell_type": "code",
   "execution_count": 6,
   "id": "0ff17b55-6d4d-4bbf-aa90-508e163e601c",
   "metadata": {},
   "outputs": [],
   "source": [
    "def solver(weights, n, m, b, t, c):\n",
    "    max_wt = max(t, c)\n",
    "    min_siz = max(max_wt * n + 1, n * n)\n",
    "    prime = next_prime(min_siz + 1)\n",
    "    \n",
    "    set_of_vals = list(range(prime))\n",
    "    \n",
    "    num_runs = math.ceil(math.log(n))\n",
    "    for _ in range(num_runs):\n",
    "        alpha = [[random.choice(set_of_vals[1:]) for _ in range(n)] for _ in range(n)]\n",
    "        gammas = random.sample(set_of_vals[1:], n * max_wt + 1)\n",
    "    \n",
    "        r_vals =  [\n",
    "            hdet(gamma, alpha, weights) % prime\n",
    "            for gamma in gammas\n",
    "        ]\n",
    "    \n",
    "        P_matrix = get_P(r_vals, gammas, prime)\n",
    "        \n",
    "        c = solve(P_matrix, r_vals)\n",
    "    \n",
    "        if c[b] % prime != 0:\n",
    "            print(\"yes\")\n",
    "            return 0\n",
    "    \n",
    "    print(\"no\")\n",
    "    return 0"
   ]
  },
  {
   "cell_type": "code",
   "execution_count": 7,
   "id": "53d1a265-cdc7-47cf-b966-20c27a1f2b38",
   "metadata": {},
   "outputs": [],
   "source": [
    "def main():\n",
    "    n, m, b, t, c = map(int, input().split())\n",
    "    weights = [[-1] * n for _ in range(n)]  \n",
    "    for _ in range(m):\n",
    "        u, v, w = map(int, input().split())\n",
    "        weights[u][v] = w\n",
    "    return solver(weights, n, m, b, t, c)"
   ]
  },
  {
   "cell_type": "code",
   "execution_count": 71,
   "id": "be1d4622-4bc1-4a53-974b-6ef14e09d991",
   "metadata": {},
   "outputs": [
    {
     "name": "stdout",
     "output_type": "stream",
     "text": [
      "yes\n",
      "yes\n"
     ]
    },
    {
     "ename": "IndexError",
     "evalue": "list index out of range",
     "output_type": "error",
     "traceback": [
      "\u001b[0;31m---------------------------------------------------------------------------\u001b[0m",
      "\u001b[0;31mIndexError\u001b[0m                                Traceback (most recent call last)",
      "Cell \u001b[0;32mIn[71], line 2\u001b[0m\n\u001b[1;32m      1\u001b[0m \u001b[38;5;28;01mfor\u001b[39;00m t \u001b[38;5;129;01min\u001b[39;00m tests:\n\u001b[0;32m----> 2\u001b[0m     \u001b[43msolver\u001b[49m\u001b[43m(\u001b[49m\u001b[38;5;241;43m*\u001b[39;49m\u001b[43mt\u001b[49m\u001b[43m)\u001b[49m\n",
      "Cell \u001b[0;32mIn[6], line 14\u001b[0m, in \u001b[0;36msolver\u001b[0;34m(weights, n, m, b, t, c)\u001b[0m\n\u001b[1;32m     10\u001b[0m alpha \u001b[38;5;241m=\u001b[39m [[random\u001b[38;5;241m.\u001b[39mchoice(set_of_vals[\u001b[38;5;241m1\u001b[39m:]) \u001b[38;5;28;01mfor\u001b[39;00m _ \u001b[38;5;129;01min\u001b[39;00m \u001b[38;5;28mrange\u001b[39m(n)] \u001b[38;5;28;01mfor\u001b[39;00m _ \u001b[38;5;129;01min\u001b[39;00m \u001b[38;5;28mrange\u001b[39m(n)]\n\u001b[1;32m     11\u001b[0m gammas \u001b[38;5;241m=\u001b[39m random\u001b[38;5;241m.\u001b[39msample(set_of_vals[\u001b[38;5;241m1\u001b[39m:], n \u001b[38;5;241m*\u001b[39m max_wt \u001b[38;5;241m+\u001b[39m \u001b[38;5;241m1\u001b[39m)\n\u001b[1;32m     13\u001b[0m r_vals \u001b[38;5;241m=\u001b[39m  [\n\u001b[0;32m---> 14\u001b[0m     \u001b[43mhdet\u001b[49m\u001b[43m(\u001b[49m\u001b[43mgamma\u001b[49m\u001b[43m,\u001b[49m\u001b[43m \u001b[49m\u001b[43malpha\u001b[49m\u001b[43m,\u001b[49m\u001b[43m \u001b[49m\u001b[43mweights\u001b[49m\u001b[43m)\u001b[49m \u001b[38;5;241m%\u001b[39m prime\n\u001b[1;32m     15\u001b[0m     \u001b[38;5;28;01mfor\u001b[39;00m gamma \u001b[38;5;129;01min\u001b[39;00m gammas\n\u001b[1;32m     16\u001b[0m ]\n\u001b[1;32m     18\u001b[0m P_matrix \u001b[38;5;241m=\u001b[39m get_P(r_vals, gammas, prime)\n\u001b[1;32m     20\u001b[0m c \u001b[38;5;241m=\u001b[39m solve(P_matrix, r_vals)\n",
      "Cell \u001b[0;32mIn[5], line 23\u001b[0m, in \u001b[0;36mhdet\u001b[0;34m(gamma, alpha, weights)\u001b[0m\n\u001b[1;32m     22\u001b[0m \u001b[38;5;28;01mdef\u001b[39;00m \u001b[38;5;21mhdet\u001b[39m(gamma, alpha, weights):  \n\u001b[0;32m---> 23\u001b[0m     H_matrix \u001b[38;5;241m=\u001b[39m [[\u001b[43malpha\u001b[49m\u001b[43m[\u001b[49m\u001b[43mi\u001b[49m\u001b[43m]\u001b[49m\u001b[43m[\u001b[49m\u001b[43mj\u001b[49m\u001b[43m]\u001b[49m \u001b[38;5;241m*\u001b[39m (gamma \u001b[38;5;241m*\u001b[39m\u001b[38;5;241m*\u001b[39m weights[i][j]) \u001b[38;5;241m*\u001b[39m (weights[i][j] \u001b[38;5;241m!=\u001b[39m \u001b[38;5;241m-\u001b[39m\u001b[38;5;241m1\u001b[39m) \u001b[38;5;28;01mfor\u001b[39;00m j \u001b[38;5;129;01min\u001b[39;00m \u001b[38;5;28mrange\u001b[39m(n)] \u001b[38;5;28;01mfor\u001b[39;00m i \u001b[38;5;129;01min\u001b[39;00m \u001b[38;5;28mrange\u001b[39m(n)]\n\u001b[1;32m     24\u001b[0m     \u001b[38;5;28;01mreturn\u001b[39;00m determinant(H_matrix) \u001b[38;5;241m%\u001b[39m prime\n",
      "\u001b[0;31mIndexError\u001b[0m: list index out of range"
     ]
    }
   ],
   "source": [
    "for t in tests:\n",
    "    solver(*t)"
   ]
  },
  {
   "cell_type": "markdown",
   "id": "2d7965a1-8106-4380-964a-72722e393108",
   "metadata": {},
   "source": [
    "---"
   ]
  },
  {
   "cell_type": "code",
   "execution_count": 11,
   "id": "9b36eb49-e13d-42ef-9707-e4d355aa32b7",
   "metadata": {},
   "outputs": [],
   "source": [
    "import numpy as np"
   ]
  },
  {
   "cell_type": "code",
   "execution_count": 2,
   "id": "1ac59878-7495-4861-a2f3-270f93d7b129",
   "metadata": {},
   "outputs": [],
   "source": [
    "tests = [([[1, -1, 3], [3, 3, -1], [-1, 1, 1]], 3, 6, 7, 3, 1),\n",
    " ([[3, 3, -1], [-1, 3, 1], [1, -1, 3]], 3, 6, 7, 3, 1),\n",
    " ([[3, -1], [-1, 5]], 2, 2, 7, 5, 3)]"
   ]
  },
  {
   "cell_type": "code",
   "execution_count": 28,
   "id": "9b90d511-eb95-417a-bc8c-9edb8effeec8",
   "metadata": {},
   "outputs": [
    {
     "data": {
      "text/plain": [
       "array([0, 0, 2, 0, 1, 2, 0, 0, 1, 0])"
      ]
     },
     "execution_count": 28,
     "metadata": {},
     "output_type": "execute_result"
    }
   ],
   "source": [
    "np.random.randint(0,3, 10)"
   ]
  },
  {
   "cell_type": "code",
   "execution_count": 29,
   "id": "a524fa69-9a0b-4087-9180-bc2ae59cda58",
   "metadata": {},
   "outputs": [],
   "source": [
    "matrices = np.random.randn(10, 20,20)"
   ]
  },
  {
   "cell_type": "code",
   "execution_count": 35,
   "id": "d2981a91-611d-4937-909c-a2281be66162",
   "metadata": {},
   "outputs": [],
   "source": [
    "prime, n, max_wt = 11, 3,3"
   ]
  },
  {
   "cell_type": "code",
   "execution_count": 36,
   "id": "f3343e41-f322-41cd-8fec-c28ebfef5f7d",
   "metadata": {},
   "outputs": [],
   "source": [
    "min_siz = max(max_wt * n + 1, n * n)"
   ]
  },
  {
   "cell_type": "code",
   "execution_count": 37,
   "id": "d7d8e4c3-723e-4444-996a-b213c45fdde9",
   "metadata": {},
   "outputs": [],
   "source": [
    "set_of_vals = np.arange(prime)"
   ]
  },
  {
   "cell_type": "code",
   "execution_count": 38,
   "id": "9f06197a-9918-4617-a0fc-3e1bb3344b33",
   "metadata": {},
   "outputs": [],
   "source": [
    "alpha = np.random.randint(1,prime+1, (n,n))"
   ]
  },
  {
   "cell_type": "code",
   "execution_count": 52,
   "id": "2b0a614b-4dce-44a2-bf97-7f4d92d06e4f",
   "metadata": {},
   "outputs": [],
   "source": [
    "gammas = np.random.choice(set_of_vals[1:], size=n * max_wt + 1, replace=False)"
   ]
  },
  {
   "cell_type": "code",
   "execution_count": 58,
   "id": "20a5b286-886c-4388-a030-1e9078f40158",
   "metadata": {},
   "outputs": [],
   "source": [
    "weights = np.array([[3, 3, -1], [-1, 3, 1], [1, -1, 3]])"
   ]
  },
  {
   "cell_type": "code",
   "execution_count": 86,
   "id": "bfa2ab93-c9f9-44a2-a338-7f9eb787ac14",
   "metadata": {},
   "outputs": [],
   "source": [
    "r_vals =  np.linalg.det((gammas[:, None, None].astype(float))**weights[None, ...]*(weights != -1))"
   ]
  },
  {
   "cell_type": "code",
   "execution_count": 85,
   "id": "787d9cba-d24a-4a1e-8ec2-ec03ce0f8197",
   "metadata": {},
   "outputs": [],
   "source": [
    "P_matrix = gammas[:,None] ** np.arange(len(gammas))[None,:]"
   ]
  },
  {
   "cell_type": "code",
   "execution_count": null,
   "id": "e97a7ab8-0e4e-4d38-9bdd-1b23e6040b31",
   "metadata": {},
   "outputs": [],
   "source": []
  },
  {
   "cell_type": "code",
   "execution_count": null,
   "id": "c6b7bb4a-4ea9-422e-b113-c9554cd61106",
   "metadata": {},
   "outputs": [],
   "source": []
  },
  {
   "cell_type": "code",
   "execution_count": 123,
   "id": "a787636c-563f-419e-a2d2-468b76fb3194",
   "metadata": {},
   "outputs": [],
   "source": [
    "r_vals =  np.linalg.det((gammas[:, None, None].astype(float))**weights[None, ...]*(weights != -1)).astype(int)"
   ]
  },
  {
   "cell_type": "code",
   "execution_count": 122,
   "id": "c135208a-b905-40aa-8f9a-6fcd583843e4",
   "metadata": {},
   "outputs": [
    {
     "data": {
      "text/plain": [
       "dtype('float64')"
      ]
     },
     "execution_count": 122,
     "metadata": {},
     "output_type": "execute_result"
    }
   ],
   "source": [
    "r_vals.dtype"
   ]
  },
  {
   "cell_type": "code",
   "execution_count": 94,
   "id": "6f920b52-d3f4-4ba9-8a67-d8e4c4a01310",
   "metadata": {},
   "outputs": [],
   "source": [
    "def npsolver(weights, n, m, b, t, c):\n",
    "    max_wt = max(t, c)\n",
    "    min_siz = max(max_wt * n + 1, n * n)\n",
    "    prime = next_prime(min_siz + 1)\n",
    "    \n",
    "    set_of_vals = np.arange(prime)\n",
    "\n",
    "    weights = np.array(weights)\n",
    "    \n",
    "    num_runs = math.ceil(math.log(n))\n",
    "    for _ in range(num_runs):\n",
    "        alpha = np.random.randint(1,prime+1, (n,n))\n",
    "        gammas = np.random.choice(set_of_vals[1:], size=n * max_wt + 1, replace=False)\n",
    "        r_vals =  np.linalg.det((gammas[:, None, None].astype(float))**weights[None, ...]*(weights != -1)).astype(int)\n",
    "    \n",
    "        P_matrix = gammas[:,None] ** np.arange(len(gammas))[None,:]\n",
    "        \n",
    "        c = np.linalg.solve(P_matrix, r_vals)\n",
    "    \n",
    "        if c[b] % prime != 0:\n",
    "            print(\"yes\")\n",
    "            return 0\n",
    "    \n",
    "    print(\"no\")\n",
    "    return 0"
   ]
  },
  {
   "cell_type": "code",
   "execution_count": 1,
   "id": "efac0fed-c1c9-4e73-ad5c-28b76a0372be",
   "metadata": {},
   "outputs": [],
   "source": [
    "t, c = 3, 5\n",
    "n = 10"
   ]
  },
  {
   "cell_type": "code",
   "execution_count": 154,
   "id": "52fb0224-f6a1-4ee2-8e90-8ed606d85caf",
   "metadata": {},
   "outputs": [
    {
     "name": "stdout",
     "output_type": "stream",
     "text": [
      "yes\n"
     ]
    },
    {
     "data": {
      "text/plain": [
       "0"
      ]
     },
     "execution_count": 154,
     "metadata": {},
     "output_type": "execute_result"
    }
   ],
   "source": [
    "npsolver(*tests[2])"
   ]
  },
  {
   "cell_type": "code",
   "execution_count": 1,
   "id": "aeabb2c4-7a4c-4aca-8e1c-4f449a2cf63b",
   "metadata": {},
   "outputs": [],
   "source": [
    "max_wt = max(t, c)\n",
    "min_siz = max(max_wt * n + 1, n * n)\n",
    "prime = next_prime(min_siz + 1)\n",
    "\n",
    "set_of_vals = list(range(prime))\n",
    "\n",
    "num_runs = math.ceil(math.log(n))\n",
    "\n",
    "alpha = [[random.choice(set_of_vals[1:]) for _ in range(n)] for _ in range(n)]"
   ]
  },
  {
   "cell_type": "code",
   "execution_count": 6,
   "id": "0b0d591a-1807-42bf-946f-e64ac733bffe",
   "metadata": {},
   "outputs": [],
   "source": [
    "m = np.random.randn(10,10).tolist()"
   ]
  },
  {
   "cell_type": "code",
   "execution_count": 17,
   "id": "7d678e24-d533-4cd1-9458-0b7248a7a61d",
   "metadata": {},
   "outputs": [
    {
     "data": {
      "text/plain": [
       "2.1613539636153942"
      ]
     },
     "execution_count": 17,
     "metadata": {},
     "output_type": "execute_result"
    }
   ],
   "source": []
  },
  {
   "cell_type": "code",
   "execution_count": 25,
   "id": "00a1b096-7ca2-443d-8712-18e0961b8928",
   "metadata": {},
   "outputs": [
    {
     "data": {
      "text/plain": [
       "2.986913047609116"
      ]
     },
     "execution_count": 25,
     "metadata": {},
     "output_type": "execute_result"
    }
   ],
   "source": [
    "max([max(sl) for sl in m])"
   ]
  }
 ],
 "metadata": {
  "kernelspec": {
   "display_name": "Python 3 (ipykernel)",
   "language": "python",
   "name": "python3"
  },
  "language_info": {
   "codemirror_mode": {
    "name": "ipython",
    "version": 3
   },
   "file_extension": ".py",
   "mimetype": "text/x-python",
   "name": "python",
   "nbconvert_exporter": "python",
   "pygments_lexer": "ipython3",
   "version": "3.12.7"
  }
 },
 "nbformat": 4,
 "nbformat_minor": 5
}
