{
 "cells": [
  {
   "cell_type": "code",
   "execution_count": 1,
   "id": "ddea75c7-f3e4-4b6f-96b4-55a1745190f4",
   "metadata": {},
   "outputs": [],
   "source": [
    "import math\n",
    "import random"
   ]
  },
  {
   "cell_type": "markdown",
   "id": "30901c1c-2b64-4cdb-9ef7-c5346b7285d1",
   "metadata": {},
   "source": [
    "|n| Gausssian Elim   |      LU      |  np.linalg.det |\n",
    "|-|-----------|:-------------:|------:|\n",
    "|100| 37.3ms |  35.9ms | 1.26ms |\n",
    "|500| 5.56s |  5.68s   |   27.6ms |"
   ]
  },
  {
   "cell_type": "markdown",
   "id": "ded50745-c09e-4da9-8c69-aad217efaef8",
   "metadata": {},
   "source": [
    "For copying:\n",
    "```\n",
    "tests = [([[1, -1, 3], [3, 3, -1], [-1, 1, 1]], 3, 6, 7, 3, 1),\n",
    " ([[3, 3, -1], [-1, 3, 1], [1, -1, 3]], 3, 6, 7, 3, 1),\n",
    " ([[3, -1], [-1, 5]], 2, 2, 7, 5, 3)]\n",
    "```"
   ]
  },
  {
   "cell_type": "markdown",
   "id": "189c1c59-2c90-4e4a-a7cf-9f9ae65a59a5",
   "metadata": {},
   "source": [
    "# Questions\n",
    "- What if matrix P is degenerate\n",
    "\n",
    "# Remarks\n",
    "- det works correctly, 30-200 times slower (for n=100, n=500)\n",
    "- We don't need to mod all values in the resulting c\n",
    "- for (100x100, 100) system the error is 1e-15"
   ]
  },
  {
   "cell_type": "code",
   "execution_count": 2,
   "id": "d778760b-2acf-4aa9-84b2-3ce45cbdd439",
   "metadata": {},
   "outputs": [],
   "source": [
    "def determinant(matrix):\n",
    "    \"\"\"\n",
    "    37.3ms vs 1.26ms (np.linalg.det) for 100x100\n",
    "    Gaussian elimination O(n^3), almost the same as LU-decomposition by time\n",
    "    Returns correct determinant\n",
    "    might have an overflow, but it happens only for 1000x1000 matrices\n",
    "    \"\"\"\n",
    "    # Get the size of the matrix\n",
    "    n = len(matrix)\n",
    "    \n",
    "    # Create a copy of the matrix to avoid mutating the input\n",
    "    mat = [row[:] for row in matrix]\n",
    "    \n",
    "    # Initialize determinant as 1\n",
    "    det = 1\n",
    "    \n",
    "    for i in range(n):\n",
    "        # Find pivot for column i\n",
    "        pivot = i\n",
    "        for j in range(i+1, n):\n",
    "            if abs(mat[j][i]) > abs(mat[pivot][i]):\n",
    "                pivot = j\n",
    "        \n",
    "        # If pivot is zero, determinant is zero\n",
    "        if mat[pivot][i] == 0:\n",
    "            return 0\n",
    "        \n",
    "        # Swap rows if needed\n",
    "        if pivot != i:\n",
    "            mat[i], mat[pivot] = mat[pivot], mat[i]\n",
    "            det *= -1  # Swapping rows flips the sign of the determinant\n",
    "        \n",
    "        # Multiply determinant by the pivot element\n",
    "        det *= mat[i][i]\n",
    "        \n",
    "        # Normalize row i\n",
    "        for j in range(i+1, n):\n",
    "            mat[i][j] /= mat[i][i]\n",
    "        \n",
    "        # Eliminate column i for rows below\n",
    "        for j in range(i+1, n):\n",
    "            for k in range(i+1, n):\n",
    "                mat[j][k] -= mat[j][i] * mat[i][k]\n",
    "    \n",
    "    return det"
   ]
  },
  {
   "cell_type": "code",
   "execution_count": 3,
   "id": "5899b74c-c165-4ee1-ae9a-d24499ec4ee5",
   "metadata": {},
   "outputs": [],
   "source": [
    "def solve(A, b):\n",
    "    \"\"\"\n",
    "    Solves the system of linear equations A * x = b using Gaussian elimination.\n",
    "    \n",
    "    Parameters:\n",
    "    A (list of lists): Coefficient matrix (n x n).\n",
    "    b (list): Right-hand side vector (n).\n",
    "    \n",
    "    Returns:\n",
    "    list: Solution vector x (n).\n",
    "    \"\"\"\n",
    "    n = len(A)\n",
    "    \n",
    "    # Forward elimination: Reduce to upper triangular form\n",
    "    for i in range(n):\n",
    "        # Find the pivot\n",
    "        pivot = i\n",
    "        for j in range(i + 1, n):\n",
    "            if abs(A[j][i]) > abs(A[pivot][i]):\n",
    "                pivot = j\n",
    "        \n",
    "        # Swap rows in A and b\n",
    "        if pivot != i:\n",
    "            A[i], A[pivot] = A[pivot], A[i]\n",
    "            b[i], b[pivot] = b[pivot], b[i]\n",
    "        \n",
    "        # Check for singular matrix\n",
    "        if A[i][i] == 0:\n",
    "            raise ValueError(\"Matrix is singular or nearly singular.\")\n",
    "        \n",
    "        # Eliminate entries below the pivot\n",
    "        for j in range(i + 1, n):\n",
    "            factor = A[j][i] / A[i][i]\n",
    "            for k in range(i, n):\n",
    "                A[j][k] -= factor * A[i][k]\n",
    "            b[j] -= factor * b[i]\n",
    "    \n",
    "    # Back substitution: Solve for x in Ux = c\n",
    "    x = [0] * n\n",
    "    for i in range(n - 1, -1, -1):\n",
    "        x[i] = b[i]\n",
    "        for j in range(i + 1, n):\n",
    "            x[i] -= A[i][j] * x[j]\n",
    "        x[i] /= A[i][i]\n",
    "    \n",
    "    return x"
   ]
  },
  {
   "cell_type": "code",
   "execution_count": 4,
   "id": "febb3392-dda4-4156-a8d7-c8e240e6dc07",
   "metadata": {},
   "outputs": [],
   "source": [
    "def isPrime(n):\n",
    "    if n <= 1:\n",
    "        return False\n",
    "    if n <= 3:\n",
    "        return True\n",
    "    if n % 2 == 0 or n % 3 == 0:\n",
    "        return False\n",
    "    i = 5\n",
    "    while i * i <= n:\n",
    "        if n % i == 0 or n % (i + 2) == 0:\n",
    "            return False\n",
    "        i += 6\n",
    "    return True\n",
    "    \n",
    "# Use eratosthenes sieve\n",
    "def next_prime(n):\n",
    "    while True:\n",
    "        if isPrime(n):\n",
    "            return n\n",
    "        n += 1\n",
    "\n",
    "def hdet(gamma, alpha, weights):  \n",
    "    H_matrix = [[alpha[i][j] * (gamma ** weights[i][j]) * (weights[i][j] != -1) for j in range(n)] for i in range(n)]\n",
    "    return determinant(H_matrix) % prime    \n",
    "\n",
    "def get_P(r_vals, gammas, prime):\n",
    "    return [[pow(g, i, prime) for i in range(len(gammas))] for g in gammas]"
   ]
  },
  {
   "cell_type": "code",
   "execution_count": 20,
   "id": "0ff17b55-6d4d-4bbf-aa90-508e163e601c",
   "metadata": {},
   "outputs": [],
   "source": [
    "def solver(weights, n, m, b, t, c):\n",
    "    max_wt = max(t, c)\n",
    "    min_siz = max(max_wt * n + 1, n * n)\n",
    "    prime = next_prime(min_siz + 1)\n",
    "    \n",
    "    set_of_vals = list(range(prime))\n",
    "    \n",
    "    num_runs = math.ceil(math.log(n))\n",
    "    for _ in range(num_runs):\n",
    "        alpha = [[random.choice(set_of_vals[1:]) for _ in range(n)] for _ in range(n)]\n",
    "        gammas = random.sample(set_of_vals[1:], n * max_wt + 1)\n",
    "    \n",
    "        r_vals =  [\n",
    "            hdet(gamma, alpha, weights) % prime\n",
    "            for gamma in gammas\n",
    "        ]\n",
    "    \n",
    "        P_matrix = get_P(r_vals, gammas, prime)\n",
    "        \n",
    "        c = solve(P_matrix, r_vals)\n",
    "    \n",
    "        if c[b] % prime != 0:\n",
    "            print(\"yes\")\n",
    "            return 0\n",
    "    \n",
    "    print(\"no\")\n",
    "    return 0"
   ]
  },
  {
   "cell_type": "code",
   "execution_count": 8,
   "id": "53d1a265-cdc7-47cf-b966-20c27a1f2b38",
   "metadata": {},
   "outputs": [],
   "source": [
    "def main():\n",
    "    n, m, b, t, c = map(int, input().split())\n",
    "    weights = [[-1] * n for _ in range(n)]  \n",
    "    for _ in range(m):\n",
    "        u, v, w = map(int, input().split())\n",
    "        weights[u][v] = w\n",
    "    return solver(weights, n, m, b, t, c)"
   ]
  },
  {
   "cell_type": "code",
   "execution_count": 77,
   "id": "be1d4622-4bc1-4a53-974b-6ef14e09d991",
   "metadata": {},
   "outputs": [
    {
     "name": "stdout",
     "output_type": "stream",
     "text": [
      "yes\n",
      "yes\n",
      "yes\n"
     ]
    }
   ],
   "source": [
    "for t in tests:\n",
    "    solver(*t)"
   ]
  }
 ],
 "metadata": {
  "kernelspec": {
   "display_name": "Python 3 (ipykernel)",
   "language": "python",
   "name": "python3"
  },
  "language_info": {
   "codemirror_mode": {
    "name": "ipython",
    "version": 3
   },
   "file_extension": ".py",
   "mimetype": "text/x-python",
   "name": "python",
   "nbconvert_exporter": "python",
   "pygments_lexer": "ipython3",
   "version": "3.12.7"
  }
 },
 "nbformat": 4,
 "nbformat_minor": 5
}
